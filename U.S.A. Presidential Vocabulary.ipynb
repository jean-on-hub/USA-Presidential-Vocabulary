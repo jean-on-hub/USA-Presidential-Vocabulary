{
 "cells": [
  {
   "cell_type": "code",
   "execution_count": 15,
   "id": "2fc7fc74",
   "metadata": {},
   "outputs": [
    {
     "name": "stdout",
     "output_type": "stream",
     "text": [
      "('of', 7102)\n",
      "('all', 33)\n",
      "('an', 28)\n",
      "[('a', 0.9982171654701233), ('had', 0.9979940056800842), ('never', 0.9978848099708557), ('yet', 0.9978471398353577), ('without', 0.997829020023346), ('more', 0.9978275299072266), ('truth', 0.9978017210960388), ('can', 0.9977503418922424), ('will', 0.9976851344108582), ('must', 0.9976837038993835), ('either', 0.9976606965065002), ('for', 0.9976381659507751), ('justice', 0.997626006603241), ('every', 0.9976212978363037), ('they', 0.9976176023483276), ('may', 0.9976168274879456), ('time', 0.9976162314414978), ('all', 0.9976068139076233), ('no', 0.9976059198379517), ('state', 0.9976058006286621)]\n",
      "[('any', 0.9980883598327637), ('without', 0.9980797171592712), ('yet', 0.9980752468109131), ('only', 0.9980645179748535), ('must', 0.9980130195617676), ('so', 0.99800705909729), ('will', 0.997999906539917), ('let', 0.9979991912841797), ('happiness', 0.9979971051216125), ('god', 0.9979938268661499), ('that', 0.9979900121688843), ('for', 0.9979674220085144), ('every', 0.9979540109634399), ('their', 0.9979473948478699), ('him', 0.997934877872467), ('one', 0.9979339838027954), ('there', 0.9979261159896851), ('while', 0.9979206919670105), ('administration', 0.9979172945022583), ('from', 0.9979025721549988)]\n"
     ]
    }
   ],
   "source": [
    "import os\n",
    "import gensim\n",
    "import spacy\n",
    "from president_helper import read_file, process_speeches, merge_speeches, get_president_sentences, get_presidents_sentences, most_frequent_words\n",
    "\n",
    "# get list of all speech files\n",
    "files = sorted([file for file in os.listdir() if file[-4:] == '.txt'])\n",
    "# print(files)\n",
    "\n",
    "# read each speech file\n",
    "speeches = [read_file(fil) for fil in files ]\n",
    "\n",
    "\n",
    "# preprocess each speech\n",
    "processed_speeches = process_speeches(speeches)\n",
    "\n",
    "\n",
    "# merge speeches\n",
    "all_sentences = merge_speeches(processed_speeches)\n",
    "\n",
    "\n",
    "# view most frequently used words\n",
    "most_freq_words = most_frequent_words(all_sentences)\n",
    "print(most_freq_words[1])\n",
    "\n",
    "# create gensim model of all speeches\n",
    "all_prez_embeddings = gensim.models.Word2Vec(all_sentences, vector_size=96, window=5, min_count=1, workers=2, sg=1)\n",
    "\n",
    "# view words similar to freedom\n",
    "similar_to_freedom = all_prez_embeddings.wv.most_similar(\"freedom\",topn =20)\n",
    "# print(similar_to_freedom)\n",
    "# view words similar to life\n",
    "similar_to_life= all_prez_embeddings.wv.most_similar(\"life\",topn =20)\n",
    "# print(similar_to_life)\n",
    "# get President Roosevelt sentences\n",
    "\n",
    "roosevelt_sentences = get_president_sentences(\"franklin-d-roosevelt\")\n",
    "\n",
    "# view most frequently used words of Roosevelt\n",
    "roosevelt_most_freq_words = most_frequent_words(roosevelt_sentences)\n",
    "print(roosevelt_most_freq_words[20])\n",
    "\n",
    "\n",
    "# create gensim model for Roosevelt\n",
    "roosevelt_embeddings = gensim.models.Word2Vec(roosevelt_sentences, vector_size=96, window=5, min_count=1, workers=2, sg=1)\n",
    "\n",
    "# view words similar to freedom for Roosevelt\n",
    "\n",
    "roosevelt_similar_to_freedom =roosevelt_embeddings.wv.most_similar(\"freedom\",topn =20)\n",
    "# print(roosevelt_similar_to_freedom)\n",
    "\n",
    "# get sentences of multiple presidents\n",
    "rushmore_prez_sentences = get_presidents_sentences([\"washington\",\"jefferson\",\"lincoln\",\"theodore-roosevelt\"])\n",
    "\n",
    "\n",
    "# view most frequently used words of presidents\n",
    "rushmore_most_freq_words = most_frequent_words(rushmore_prez_sentences)\n",
    "print(rushmore_most_freq_words[50])\n",
    "\n",
    "\n",
    "# create gensim model for the presidents\n",
    "rushmore_embeddings = gensim.models.Word2Vec(rushmore_prez_sentences, vector_size=96, window=5, min_count=1, workers=2, sg=1)\n",
    "\n",
    "# view words similar to freedom for presidents\n",
    "rushmore_similar_to_freedom= rushmore_embeddings.wv.most_similar(\"freedom\",topn =20)\n",
    "print(rushmore_similar_to_freedom)\n",
    "\n",
    "rushmore_similar_to_proper= rushmore_embeddings.wv.most_similar(\"proper\",topn =20)\n",
    "print(rushmore_similar_to_proper)"
   ]
  },
  {
   "cell_type": "code",
   "execution_count": 2,
   "id": "a61de556",
   "metadata": {},
   "outputs": [
    {
     "name": "stdout",
     "output_type": "stream",
     "text": [
      "Collecting gensim\n",
      "  Downloading gensim-4.1.2-cp38-cp38-win_amd64.whl (24.0 MB)\n",
      "Requirement already satisfied: numpy>=1.17.0 in c:\\programdata\\anaconda3\\lib\\site-packages (from gensim) (1.20.1)\n",
      "Collecting smart-open>=1.8.1\n",
      "  Downloading smart_open-5.2.1-py3-none-any.whl (58 kB)\n",
      "Requirement already satisfied: scipy>=0.18.1 in c:\\programdata\\anaconda3\\lib\\site-packages (from gensim) (1.6.2)\n",
      "Requirement already satisfied: Cython==0.29.23 in c:\\programdata\\anaconda3\\lib\\site-packages (from gensim) (0.29.23)\n",
      "Installing collected packages: smart-open, gensim\n",
      "Successfully installed gensim-4.1.2 smart-open-5.2.1\n",
      "Note: you may need to restart the kernel to use updated packages.\n"
     ]
    }
   ],
   "source": [
    "pip install gensim"
   ]
  },
  {
   "cell_type": "code",
   "execution_count": 11,
   "id": "ee6c497e",
   "metadata": {},
   "outputs": [
    {
     "name": "stdout",
     "output_type": "stream",
     "text": [
      "Collecting spacy\n",
      "  Downloading spacy-3.2.1-cp38-cp38-win_amd64.whl (12.2 MB)\n",
      "Collecting langcodes<4.0.0,>=3.2.0\n",
      "  Downloading langcodes-3.3.0-py3-none-any.whl (181 kB)\n",
      "Collecting blis<0.8.0,>=0.4.0\n",
      "  Downloading blis-0.7.5-cp38-cp38-win_amd64.whl (6.6 MB)\n",
      "Requirement already satisfied: jinja2 in c:\\programdata\\anaconda3\\lib\\site-packages (from spacy) (2.11.3)\n",
      "Collecting spacy-legacy<3.1.0,>=3.0.8\n",
      "  Downloading spacy_legacy-3.0.8-py2.py3-none-any.whl (14 kB)\n",
      "Collecting pydantic!=1.8,!=1.8.1,<1.9.0,>=1.7.4\n",
      "  Downloading pydantic-1.8.2-cp38-cp38-win_amd64.whl (2.0 MB)\n",
      "Collecting wasabi<1.1.0,>=0.8.1\n",
      "  Downloading wasabi-0.9.0-py3-none-any.whl (25 kB)\n",
      "Collecting thinc<8.1.0,>=8.0.12\n",
      "  Downloading thinc-8.0.13-cp38-cp38-win_amd64.whl (1.0 MB)\n",
      "Collecting pathy>=0.3.5\n",
      "  Downloading pathy-0.6.1-py3-none-any.whl (42 kB)\n",
      "Collecting preshed<3.1.0,>=3.0.2\n",
      "  Downloading preshed-3.0.6-cp38-cp38-win_amd64.whl (113 kB)\n",
      "Collecting murmurhash<1.1.0,>=0.28.0\n",
      "  Downloading murmurhash-1.0.6-cp38-cp38-win_amd64.whl (21 kB)\n",
      "Collecting spacy-loggers<2.0.0,>=1.0.0\n",
      "  Downloading spacy_loggers-1.0.1-py3-none-any.whl (7.0 kB)\n",
      "Requirement already satisfied: requests<3.0.0,>=2.13.0 in c:\\programdata\\anaconda3\\lib\\site-packages (from spacy) (2.25.1)\n",
      "Requirement already satisfied: packaging>=20.0 in c:\\programdata\\anaconda3\\lib\\site-packages (from spacy) (20.9)\n",
      "Collecting srsly<3.0.0,>=2.4.1\n",
      "  Downloading srsly-2.4.2-cp38-cp38-win_amd64.whl (452 kB)\n",
      "Collecting catalogue<2.1.0,>=2.0.6\n",
      "  Downloading catalogue-2.0.6-py3-none-any.whl (17 kB)\n",
      "Requirement already satisfied: tqdm<5.0.0,>=4.38.0 in c:\\programdata\\anaconda3\\lib\\site-packages (from spacy) (4.59.0)\n",
      "Requirement already satisfied: numpy>=1.15.0 in c:\\programdata\\anaconda3\\lib\\site-packages (from spacy) (1.20.1)\n",
      "Collecting cymem<2.1.0,>=2.0.2\n",
      "  Downloading cymem-2.0.6-cp38-cp38-win_amd64.whl (36 kB)\n",
      "Collecting typer<0.5.0,>=0.3.0\n",
      "  Downloading typer-0.4.0-py3-none-any.whl (27 kB)\n",
      "Requirement already satisfied: setuptools in c:\\programdata\\anaconda3\\lib\\site-packages (from spacy) (52.0.0.post20210125)\n",
      "Requirement already satisfied: pyparsing>=2.0.2 in c:\\programdata\\anaconda3\\lib\\site-packages (from packaging>=20.0->spacy) (2.4.7)\n",
      "Requirement already satisfied: smart-open<6.0.0,>=5.0.0 in c:\\programdata\\anaconda3\\lib\\site-packages (from pathy>=0.3.5->spacy) (5.2.1)\n",
      "Requirement already satisfied: typing-extensions>=3.7.4.3 in c:\\programdata\\anaconda3\\lib\\site-packages (from pydantic!=1.8,!=1.8.1,<1.9.0,>=1.7.4->spacy) (3.7.4.3)\n",
      "Requirement already satisfied: chardet<5,>=3.0.2 in c:\\programdata\\anaconda3\\lib\\site-packages (from requests<3.0.0,>=2.13.0->spacy) (4.0.0)\n",
      "Requirement already satisfied: idna<3,>=2.5 in c:\\programdata\\anaconda3\\lib\\site-packages (from requests<3.0.0,>=2.13.0->spacy) (2.10)\n",
      "Requirement already satisfied: urllib3<1.27,>=1.21.1 in c:\\programdata\\anaconda3\\lib\\site-packages (from requests<3.0.0,>=2.13.0->spacy) (1.26.4)\n",
      "Requirement already satisfied: certifi>=2017.4.17 in c:\\programdata\\anaconda3\\lib\\site-packages (from requests<3.0.0,>=2.13.0->spacy) (2020.12.5)\n",
      "Requirement already satisfied: click<9.0.0,>=7.1.1 in c:\\programdata\\anaconda3\\lib\\site-packages (from typer<0.5.0,>=0.3.0->spacy) (7.1.2)\n",
      "Requirement already satisfied: MarkupSafe>=0.23 in c:\\programdata\\anaconda3\\lib\\site-packages (from jinja2->spacy) (1.1.1)\n",
      "Installing collected packages: murmurhash, cymem, catalogue, wasabi, typer, srsly, pydantic, preshed, blis, thinc, spacy-loggers, spacy-legacy, pathy, langcodes, spacy\n",
      "Successfully installed blis-0.7.5 catalogue-2.0.6 cymem-2.0.6 langcodes-3.3.0 murmurhash-1.0.6 pathy-0.6.1 preshed-3.0.6 pydantic-1.8.2 spacy-3.2.1 spacy-legacy-3.0.8 spacy-loggers-1.0.1 srsly-2.4.2 thinc-8.0.13 typer-0.4.0 wasabi-0.9.0\n",
      "Note: you may need to restart the kernel to use updated packages.\n"
     ]
    }
   ],
   "source": [
    "pip install -U spacy"
   ]
  },
  {
   "cell_type": "code",
   "execution_count": null,
   "id": "f095b951",
   "metadata": {},
   "outputs": [],
   "source": []
  }
 ],
 "metadata": {
  "kernelspec": {
   "display_name": "Python 3",
   "language": "python",
   "name": "python3"
  },
  "language_info": {
   "codemirror_mode": {
    "name": "ipython",
    "version": 3
   },
   "file_extension": ".py",
   "mimetype": "text/x-python",
   "name": "python",
   "nbconvert_exporter": "python",
   "pygments_lexer": "ipython3",
   "version": "3.8.8"
  }
 },
 "nbformat": 4,
 "nbformat_minor": 5
}
